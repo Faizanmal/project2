{
 "cells": [
  {
   "cell_type": "markdown",
   "metadata": {},
   "source": [
    "<font size = 8 color = steelblue center> Machine Learning"
   ]
  },
  {
   "cell_type": "code",
   "execution_count": null,
   "metadata": {},
   "outputs": [],
   "source": [
    "import numpy as np \n",
    "import pandas as pd"
   ]
  },
  {
   "cell_type": "markdown",
   "metadata": {},
   "source": [
    "### Concat Experiment data"
   ]
  },
  {
   "cell_type": "code",
   "execution_count": null,
   "metadata": {},
   "outputs": [],
   "source": [
    "exp1 = pd.read_csv('experiment_vol1.csv')\n",
    "exp2 = pd.read_csv('experiment_vol2.csv')\n",
    "exp3 = pd.read_csv('experiment_vol3.csv')\n",
    "all_exp = pd.concat([exp1,exp2,exp3])\n",
    "all_exp.head()"
   ]
  },
  {
   "cell_type": "code",
   "execution_count": null,
   "metadata": {},
   "outputs": [],
   "source": [
    "print(exp1.shape)\n",
    "print(exp2.shape)\n",
    "print(exp3.shape)\n",
    "print(all_exp.shape)"
   ]
  },
  {
   "cell_type": "markdown",
   "metadata": {},
   "source": [
    "### Concat geom data"
   ]
  },
  {
   "cell_type": "code",
   "execution_count": null,
   "metadata": {},
   "outputs": [],
   "source": [
    "geom1 = pd.read_csv('geom_vol1.csv')\n",
    "geom2 = pd.read_csv('geom_vol2.csv')\n",
    "geom3 = pd.read_csv('geom_vol3.csv')\n",
    "all_geom = pd.concat([geom1,geom2,geom3])\n",
    "all_geom.head()"
   ]
  },
  {
   "cell_type": "code",
   "execution_count": null,
   "metadata": {},
   "outputs": [],
   "source": [
    "print(geom1.shape)\n",
    "print(geom2.shape)\n",
    "print(geom3.shape)\n",
    "print(all_geom.shape)"
   ]
  },
  {
   "cell_type": "markdown",
   "metadata": {},
   "source": [
    "### Renaming columns to python standard"
   ]
  },
  {
   "cell_type": "code",
   "execution_count": null,
   "metadata": {},
   "outputs": [],
   "source": [
    "all_geom.columns = all_geom.columns.str.replace(\"'\",'')\n",
    "all_geom.columns = all_geom.columns.str.replace(' ','_')\n",
    "all_exp.columns = all_exp.columns.str.replace(\"'\",'')\n",
    "all_exp.columns = all_exp.columns.str.replace(' ','_')"
   ]
  },
  {
   "cell_type": "markdown",
   "metadata": {},
   "source": [
    "### No missing value in exp data"
   ]
  },
  {
   "cell_type": "code",
   "execution_count": null,
   "metadata": {},
   "outputs": [],
   "source": [
    "all_exp.isna().sum()"
   ]
  },
  {
   "cell_type": "markdown",
   "metadata": {},
   "source": [
    "### No missing values in geom data"
   ]
  },
  {
   "cell_type": "code",
   "execution_count": null,
   "metadata": {},
   "outputs": [],
   "source": [
    "all_geom.isna().sum()"
   ]
  },
  {
   "cell_type": "markdown",
   "metadata": {},
   "source": [
    "### Model building for Propllers who have 2 Blades"
   ]
  },
  {
   "cell_type": "code",
   "execution_count": null,
   "metadata": {},
   "outputs": [],
   "source": [
    "all_exp.dtypes"
   ]
  },
  {
   "cell_type": "markdown",
   "metadata": {},
   "source": [
    "### Propellers which have number of blades 2"
   ]
  },
  {
   "cell_type": "code",
   "execution_count": null,
   "metadata": {},
   "outputs": [],
   "source": [
    "num_2_data =  all_exp[all_exp['Number_of_Blades'] == 2].drop(columns=['Propellers_Name','Blades_Name']) # Drop Categorical columns\n",
    "num_2_data.head()"
   ]
  },
  {
   "cell_type": "markdown",
   "metadata": {},
   "source": [
    "### Propellers which have no. of blades other then 2"
   ]
  },
  {
   "cell_type": "code",
   "execution_count": null,
   "metadata": {},
   "outputs": [],
   "source": [
    "num_other = all_exp[all_exp['Number_of_Blades'] != 2].drop(columns=['Propellers_Name','Blades_Name']) # Drop Categorical column\n",
    "num_other.head()"
   ]
  },
  {
   "cell_type": "markdown",
   "metadata": {},
   "source": [
    "### Converting Propellers Brand column to numerical"
   ]
  },
  {
   "cell_type": "code",
   "execution_count": null,
   "metadata": {},
   "outputs": [],
   "source": [
    "dummy_data = pd.get_dummies(num_2_data,columns=['Propellers_Brand'])\n",
    "dummy_data.head()"
   ]
  },
  {
   "cell_type": "code",
   "execution_count": null,
   "metadata": {},
   "outputs": [],
   "source": [
    "from sklearn.linear_model import LinearRegression\n",
    "from sklearn.ensemble import RandomForestRegressor, GradientBoostingRegressor\n",
    "from sklearn.tree import DecisionTreeRegressor \n",
    "from sklearn.model_selection import train_test_split as split\n",
    "from sklearn.neighbors import KNeighborsRegressor\n",
    "from sklearn.metrics import mean_squared_error,r2_score,mean_absolute_error,root_mean_squared_error,mean_absolute_percentage_error"
   ]
  },
  {
   "cell_type": "markdown",
   "metadata": {},
   "source": [
    "### Models"
   ]
  },
  {
   "cell_type": "code",
   "execution_count": null,
   "metadata": {},
   "outputs": [],
   "source": [
    "models = {'Linear Regression':LinearRegression(),'Random Forest':RandomForestRegressor(),\n",
    "          'K Neighbors':KNeighborsRegressor(n_neighbors=1),\n",
    "          'Decision Tree':DecisionTreeRegressor(),'Gradient Boosting':GradientBoostingRegressor()}"
   ]
  },
  {
   "cell_type": "markdown",
   "metadata": {},
   "source": [
    "### Model Building & Evaluation of Propellers which have 2 Blades"
   ]
  },
  {
   "cell_type": "code",
   "execution_count": null,
   "metadata": {},
   "outputs": [],
   "source": [
    "results = []\n",
    "for model, item in models.items():\n",
    "    X = dummy_data.drop(columns='Efficiency_Output')\n",
    "    y = dummy_data.Efficiency_Output\n",
    "    X_train,X_test,y_train,y_test = split(X,y,test_size=0.2,random_state=12)\n",
    "    item.fit(X_train,y_train)\n",
    "    y_pred = item.predict(X_test)\n",
    "\n",
    "    results.append({\n",
    "        'Models': model,\n",
    "        'Score': f\"{item.score(X_train,y_train)*100:.2f}%\",\n",
    "        'R Squared': f\"{r2_score(y_test,y_pred) * 100:.2f}%\",\n",
    "        'MSE' : (mean_squared_error(y_test,y_pred)),\n",
    "        'RMSE': (root_mean_squared_error(y_test,y_pred)),\n",
    "        'MAE' : (mean_absolute_error(y_test,y_pred)),\n",
    "        'MAPE': (mean_absolute_percentage_error(y_test,y_pred))\n",
    "    })\n",
    " \n",
    "results_2_blade = pd.DataFrame(results) \n",
    "display(results_2_blade)"
   ]
  },
  {
   "cell_type": "markdown",
   "metadata": {},
   "source": [
    "### Propellers with blades other then 2 evaluation"
   ]
  },
  {
   "cell_type": "code",
   "execution_count": null,
   "metadata": {},
   "outputs": [],
   "source": [
    "dummy_data1 = pd.get_dummies(num_other,columns=['Propellers_Brand'])\n",
    "\n",
    "data = []\n",
    "for model, item in models.items():\n",
    "    X = dummy_data1.drop(columns='Efficiency_Output')\n",
    "    y = dummy_data1.Efficiency_Output\n",
    "    X_train,X_test,y_train,y_test = split(X,y,test_size=0.2,random_state=12)\n",
    "    item.fit(X_train,y_train)\n",
    "    y_pred = item.predict(X_test)\n",
    "\n",
    "    data.append({\n",
    "        'Models': model,\n",
    "        'Score': f\"{item.score(X_train,y_train)*100:.2f}%\",\n",
    "        'R Squared': f\"{r2_score(y_test,y_pred) * 100:.2f}%\",\n",
    "        'MSE' : (mean_squared_error(y_test,y_pred)),\n",
    "        'RMSE': (root_mean_squared_error(y_test,y_pred)),\n",
    "        'MAE' : (mean_absolute_error(y_test,y_pred)),\n",
    "        'MAPE': (mean_absolute_percentage_error(y_test,y_pred))\n",
    "    })\n",
    " \n",
    "results_other_blades = pd.DataFrame(data) \n",
    "display(results_other_blades)"
   ]
  },
  {
   "cell_type": "markdown",
   "metadata": {},
   "source": [
    "### Gradient BOOST technique for model building"
   ]
  },
  {
   "cell_type": "code",
   "execution_count": null,
   "metadata": {},
   "outputs": [],
   "source": [
    "dummy2 = pd.get_dummies(all_exp,columns=['Propellers_Brand']).drop(columns=['Propellers_Name','Blades_Name'])\n",
    "dummy2.head()"
   ]
  },
  {
   "cell_type": "code",
   "execution_count": null,
   "metadata": {},
   "outputs": [],
   "source": [
    "X = dummy2.drop(columns='Power_Coefficient_Output')\n",
    "y = dummy2.Power_Coefficient_Output\n",
    "X_train,X_test,y_train,y_test = split(X,y,test_size=0.2, random_state=42)\n",
    "gdb = GradientBoostingRegressor()\n",
    "gdb.fit(X_train,y_train)\n",
    "y_pred_gdb = gdb.predict(X_test)\n",
    "print(f\"Score   : {gdb.score(X_train,y_train) * 100:.2f}%\")\n",
    "print(f\"R Square: {r2_score(y_test,y_pred_gdb) * 100:.2f}%\")\n",
    "print(f\"MSE     : {mean_squared_error(y_test,y_pred_gdb)}\")\n",
    "print(f\"MAE     : {mean_absolute_error(y_test,y_pred_gdb)}\")\n",
    "print(f\"MAPE    : {mean_absolute_percentage_error(y_test,y_pred_gdb)}\")"
   ]
  },
  {
   "cell_type": "markdown",
   "metadata": {},
   "source": [
    "### Using Xgboost"
   ]
  },
  {
   "cell_type": "code",
   "execution_count": null,
   "metadata": {},
   "outputs": [],
   "source": [
    "from xgboost import XGBRegressor\n",
    "\n",
    "xgb = XGBRegressor()\n",
    "xgb.fit(X_train,y_train)\n",
    "y_pred_xgb = xgb.predict(X_test)\n",
    "print(f\"Score   : {xgb.score(X_train,y_train) * 100:.2f}%\")\n",
    "print(f\"R Square: {r2_score(y_test,y_pred_xgb) * 100:.2f}%\")\n",
    "print(f\"MSE     : {mean_squared_error(y_test,y_pred_xgb)}\")\n",
    "print(f\"MAE     : {mean_absolute_error(y_test,y_pred_xgb)}\")\n",
    "print(f\"MAPE    : {mean_absolute_percentage_error(y_test,y_pred_xgb)}\")"
   ]
  },
  {
   "cell_type": "markdown",
   "metadata": {},
   "source": [
    "### Hyperparameter Tunning"
   ]
  },
  {
   "cell_type": "code",
   "execution_count": null,
   "metadata": {},
   "outputs": [],
   "source": [
    "from sklearn.model_selection import RandomizedSearchCV\n",
    "\n",
    "X = dummy2.drop(columns='Efficiency_Output')\n",
    "y = dummy2.Efficiency_Output\n",
    "X_train,X_test,y_train,y_test = split(X,y,test_size=0.2, random_state=42)"
   ]
  },
  {
   "cell_type": "code",
   "execution_count": null,
   "metadata": {},
   "outputs": [],
   "source": [
    "param = {'n_estimators':[10,100,50,200],'max_depth':[1,10,20],\n",
    "              'min_samples_split':[2,4,5,8,10],'min_samples_leaf':[1,2,3,4,6],'max_features':['sqrt','log2'],\n",
    "              'ccp_alpha':[0,0.2,0.5,1]}"
   ]
  },
  {
   "cell_type": "code",
   "execution_count": null,
   "metadata": {},
   "outputs": [],
   "source": [
    "rf = RandomForestRegressor()\n",
    "random = RandomizedSearchCV(rf,param_distributions=param,cv = 5,n_jobs= -1)\n",
    "random.fit(X_train,y_train)"
   ]
  },
  {
   "cell_type": "code",
   "execution_count": null,
   "metadata": {},
   "outputs": [],
   "source": [
    "random.best_score_"
   ]
  },
  {
   "cell_type": "code",
   "execution_count": null,
   "metadata": {},
   "outputs": [],
   "source": [
    "random.score(X_train,y_train)"
   ]
  },
  {
   "cell_type": "markdown",
   "metadata": {},
   "source": [
    "### There are no missing values in data set "
   ]
  },
  {
   "cell_type": "markdown",
   "metadata": {},
   "source": [
    "### Calculate Solidity"
   ]
  },
  {
   "cell_type": "code",
   "execution_count": null,
   "metadata": {},
   "outputs": [],
   "source": [
    "all_geom['Chord_distribution'] = (all_geom['Propellers_Diameter'] / 2) * all_geom['Adimensional_Chord_-_c/R']\n",
    "all_geom['Radius_distribution'] = (all_geom['Propellers_Diameter'] / 2) * all_geom['Adimensional_Radius_-_r/R']\n",
    "all_geom['Disc_Area'] = np.pi * (all_geom['Propellers_Diameter'] / 2) ** 2\n",
    "all_exp['Disc_Area'] = np.pi * (all_exp['Propellers_Diameter'] / 2) ** 2"
   ]
  },
  {
   "cell_type": "code",
   "execution_count": null,
   "metadata": {},
   "outputs": [],
   "source": [
    "geom_group = all_geom.groupby('Blades_Name') \n",
    "result = []\n",
    "for name, group in geom_group:\n",
    "    group = group.sort_values('Radius_distribution')\n",
    "    blade_area = np.trapezoid(group['Chord_distribution'],group['Radius_distribution'])\n",
    "    result.append({\n",
    "        'Blades_Name':name,\n",
    "        'Blade_Area':blade_area,\n",
    "        'Total_Blade_Area':blade_area})\n",
    "area_df = pd.DataFrame(result)\n",
    "data_sol = pd.merge(all_exp,area_df)\n",
    "data_sol['Solidity'] = data_sol['Blade_Area'] / data_sol['Disc_Area']\n",
    "data_sol.head()"
   ]
  },
  {
   "cell_type": "markdown",
   "metadata": {},
   "source": [
    "### Model With Solidity"
   ]
  },
  {
   "cell_type": "code",
   "execution_count": null,
   "metadata": {},
   "outputs": [],
   "source": [
    "dummy3 = pd.get_dummies(data_sol,columns=['Propellers_Brand']).drop(columns=['Propellers_Name','Blades_Name'])\n",
    "res = []\n",
    "for model, item in models.items():\n",
    "    X = dummy3.drop(columns='Efficiency_Output')\n",
    "    y = dummy3.Efficiency_Output\n",
    "    X_train,X_test,y_train,y_test = split(X,y,test_size=0.2,random_state=12)\n",
    "    item.fit(X_train,y_train)\n",
    "    y_pred = item.predict(X_test)\n",
    "\n",
    "    res.append({\n",
    "        'Models': model,\n",
    "        'Score': f\"{item.score(X_train,y_train)*100:.2f}%\",\n",
    "        'R Squared': f\"{r2_score(y_test,y_pred) * 100:.2f}%\",\n",
    "        'MSE' : (mean_squared_error(y_test,y_pred)),\n",
    "        'RMSE': (root_mean_squared_error(y_test,y_pred)),\n",
    "        'MAE' : (mean_absolute_error(y_test,y_pred)),\n",
    "        'MAPE': (mean_absolute_percentage_error(y_test,y_pred))\n",
    "    })\n",
    "\n",
    "res_sol = pd.DataFrame(res)\n",
    "res_sol"
   ]
  },
  {
   "cell_type": "markdown",
   "metadata": {},
   "source": [
    "### Model without Solidity"
   ]
  },
  {
   "cell_type": "code",
   "execution_count": null,
   "metadata": {},
   "outputs": [],
   "source": [
    "without = []\n",
    "for model, item in models.items():\n",
    "    X = dummy2.drop(columns='Efficiency_Output')\n",
    "    y = dummy2.Efficiency_Output\n",
    "    X_train,X_test,y_train,y_test = split(X,y,test_size=0.2,random_state=12)\n",
    "    item.fit(X_train,y_train)\n",
    "    y_pred = item.predict(X_test)\n",
    "\n",
    "    without.append({\n",
    "        'Models': model,\n",
    "        'Score': f\"{item.score(X_train,y_train)*100:.2f}%\",\n",
    "        'R Squared': f\"{r2_score(y_test,y_pred) * 100:.2f}%\",\n",
    "        'MSE' : (mean_squared_error(y_test,y_pred)),\n",
    "        'RMSE': (root_mean_squared_error(y_test,y_pred)),\n",
    "        'MAE' : (mean_absolute_error(y_test,y_pred)),\n",
    "        'MAPE': (mean_absolute_percentage_error(y_test,y_pred))\n",
    "    })\n",
    "\n",
    "res_without_sol = pd.DataFrame(without)\n",
    "res_without_sol"
   ]
  },
  {
   "cell_type": "code",
   "execution_count": null,
   "metadata": {},
   "outputs": [],
   "source": []
  }
 ],
 "metadata": {
  "kernelspec": {
   "display_name": "Python 3",
   "language": "python",
   "name": "python3"
  },
  "language_info": {
   "codemirror_mode": {
    "name": "ipython",
    "version": 3
   },
   "file_extension": ".py",
   "mimetype": "text/x-python",
   "name": "python",
   "nbconvert_exporter": "python",
   "pygments_lexer": "ipython3",
   "version": "3.13.0"
  }
 },
 "nbformat": 4,
 "nbformat_minor": 2
}
